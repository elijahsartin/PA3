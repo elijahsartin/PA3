{
 "cells": [
  {
   "cell_type": "markdown",
   "id": "47c301d8",
   "metadata": {},
   "source": [
    "# Programming Assignment 3\n",
    "## Elijah Sartin\n",
    "## 0.1\n",
    "## Fall 2021 - Section 1"
   ]
  },
  {
   "cell_type": "markdown",
   "id": "85890136",
   "metadata": {},
   "source": [
    "### Write a Python program will calculate the area and perimeter of a triangle using two different functions named calcArea() and calcPerimeter(). Your program should prompt the user for the length of three sides of the triangle. Each function should take the lengths of the sides as arguments and return the output of their respective calculations."
   ]
  },
  {
   "cell_type": "code",
   "execution_count": null,
   "id": "6c92c68e",
   "metadata": {},
   "outputs": [],
   "source": []
  },
  {
   "cell_type": "code",
   "execution_count": 37,
   "id": "4670bf8c",
   "metadata": {},
   "outputs": [
    {
     "name": "stdout",
     "output_type": "stream",
     "text": [
      "Enter the length of side A: 5\n",
      "Enter the length of side B: 6\n",
      "Enter the length of side C: 7\n",
      "The area of the triangle is 14.696938456699069 square units.\n",
      "The perimeter of the triangle is 18.0 linear units.\n"
     ]
    }
   ],
   "source": [
    "import math\n",
    "\n",
    "# set default parameters\n",
    "A = 1\n",
    "B = 1\n",
    "C = 1\n",
    "\n",
    "# gather inputs\n",
    "A = float(input('Enter the length of side A: '))\n",
    "B = float(input('Enter the length of side B: '))\n",
    "C = float(input('Enter the length of side C: '))\n",
    "\n",
    "# define perimeter\n",
    "def calcPerimeter():\n",
    "    perimeter = (A+B+C)\n",
    "    return perimeter\n",
    "\n",
    "# define s\n",
    "s = ((A+B+C)/2)\n",
    "\n",
    "# define area\n",
    "def calcArea():\n",
    "    area = (math.sqrt(s*(s-A)*(s-B)*(s-C)))\n",
    "    return area\n",
    "\n",
    "print('The area of the triangle is', calcArea(), 'square units.')\n",
    "print('The perimeter of the triangle is', calcPerimeter(), 'linear units.')"
   ]
  },
  {
   "cell_type": "markdown",
   "id": "80f8009c",
   "metadata": {},
   "source": [
    "### Write a Python program to play “Guess the Number”. Your program should generate a random number between 1 and 1000 and then prompt the user for a guess. Possible responses to the guess should be ‘Too high! Guess again’, ‘Too low! Guess again’, and ‘Correct!’."
   ]
  },
  {
   "cell_type": "code",
   "execution_count": 1,
   "id": "6784bccb",
   "metadata": {},
   "outputs": [
    {
     "name": "stdout",
     "output_type": "stream",
     "text": [
      "Enter your guess: 500\n",
      "Too high! Guess again.\n",
      "Enter your guess: 250\n",
      "Too low! Guess again.\n",
      "Enter your guess: 375\n",
      "Too low! Guess again.\n",
      "Enter your guess: 425\n",
      "Too low! Guess again.\n",
      "Enter your guess: 450\n",
      "Too high! Guess again.\n",
      "Enter your guess: 430\n",
      "Too low! Guess again.\n",
      "Enter your guess: 440\n",
      "Too high! Guess again.\n",
      "Enter your guess: 435\n",
      "Too high! Guess again.\n",
      "Enter your guess: 434\n",
      "Correct!\n"
     ]
    }
   ],
   "source": [
    "import random\n",
    "\n",
    "guess = int()\n",
    "n = random.randint(1,1000)\n",
    "\n",
    "while guess !=n:\n",
    "    guess=int(input('Enter your guess: '))\n",
    "    \n",
    "    def evaluateGuess():\n",
    "        \n",
    "        if guess == n:\n",
    "            print('Correct!')\n",
    "            \n",
    "        elif guess > n:\n",
    "            print('Too high! Guess again.')\n",
    "            \n",
    "        elif guess < n:\n",
    "            print('Too low! Guess again.')\n",
    "        return\n",
    "    \n",
    "    evaluateGuess()"
   ]
  },
  {
   "cell_type": "markdown",
   "id": "4123172f",
   "metadata": {},
   "source": [
    "### Write a Python program to calculate the mean temperature over a set of Fahrenheit temperature values. Your program should calculate the mean in a function called meanTemp()and then print message that indicates the number of days your mean represents and the mean (see below). Your function should be flexible so that you can pass any number of temperatures to it. You do not need to get input from the user; simply include the temperatures in the function parameter list."
   ]
  },
  {
   "cell_type": "code",
   "execution_count": 2,
   "id": "dd00e818",
   "metadata": {},
   "outputs": [
    {
     "name": "stdout",
     "output_type": "stream",
     "text": [
      "The mean temperatue for the past 6 days is 91.16666666666667 degrees F.\n"
     ]
    }
   ],
   "source": [
    "# Importing the statistics module\n",
    "import statistics\n",
    "  \n",
    "# list of positive integer numbers\n",
    "temps = (88, 98, 85, 91, 93, 92)\n",
    "  \n",
    "def meanTemp():\n",
    "    x = statistics.mean(temps)\n",
    "    return x\n",
    "\n",
    "y = len(temps)\n",
    "\n",
    "count_temps = temps.count(1)\n",
    "  \n",
    "# Printing the mean\n",
    "print('The mean temperatue for the past', y,'days is', meanTemp(), 'degrees F.')"
   ]
  },
  {
   "cell_type": "code",
   "execution_count": null,
   "id": "bd9e7f5b",
   "metadata": {},
   "outputs": [],
   "source": []
  },
  {
   "cell_type": "code",
   "execution_count": null,
   "id": "5ab43ee7",
   "metadata": {},
   "outputs": [],
   "source": []
  },
  {
   "cell_type": "code",
   "execution_count": null,
   "id": "a9ddcb40",
   "metadata": {},
   "outputs": [],
   "source": []
  }
 ],
 "metadata": {
  "kernelspec": {
   "display_name": "Python 3",
   "language": "python",
   "name": "python3"
  },
  "language_info": {
   "codemirror_mode": {
    "name": "ipython",
    "version": 3
   },
   "file_extension": ".py",
   "mimetype": "text/x-python",
   "name": "python",
   "nbconvert_exporter": "python",
   "pygments_lexer": "ipython3",
   "version": "3.8.8"
  }
 },
 "nbformat": 4,
 "nbformat_minor": 5
}
